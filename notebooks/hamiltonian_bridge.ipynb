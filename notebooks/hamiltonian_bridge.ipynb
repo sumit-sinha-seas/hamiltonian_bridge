{
  "nbformat": 4,
  "nbformat_minor": 0,
  "metadata": {
    "colab": {
      "provenance": [],
      "collapsed_sections": [
        "TusW4g2X1kZF"
      ],
      "authorship_tag": "ABX9TyPHV3n73K+2/x53LqNWkCyT",
      "include_colab_link": true
    },
    "kernelspec": {
      "name": "python3",
      "display_name": "Python 3"
    },
    "language_info": {
      "name": "python"
    }
  },
  "cells": [
    {
      "cell_type": "markdown",
      "metadata": {
        "id": "view-in-github",
        "colab_type": "text"
      },
      "source": [
        "<a href=\"https://colab.research.google.com/github/vishaal-krishnan/hamiltonian_bridge/blob/main/notebooks/hamiltonian_bridge.ipynb\" target=\"_parent\"><img src=\"https://colab.research.google.com/assets/colab-badge.svg\" alt=\"Open In Colab\"/></a>"
      ]
    },
    {
      "cell_type": "markdown",
      "metadata": {
        "id": "TusW4g2X1kZF"
      },
      "source": [
        "# Installation, imports and predefined functions"
      ]
    },
    {
      "cell_type": "markdown",
      "metadata": {
        "id": "ikHpHnLL8GNz"
      },
      "source": [
        "### Installation"
      ]
    },
    {
      "cell_type": "code",
      "execution_count": null,
      "metadata": {
        "colab": {
          "base_uri": "https://localhost:8080/"
        },
        "id": "4Ga9AjAG0vrR",
        "outputId": "068040df-9922-4be1-d50a-676a0886175b"
      },
      "outputs": [
        {
          "output_type": "stream",
          "name": "stdout",
          "text": [
            "Requirement already satisfied: jaxlib==0.4.23 in /usr/local/lib/python3.10/dist-packages (0.4.23)\n",
            "Requirement already satisfied: scipy>=1.9 in /usr/local/lib/python3.10/dist-packages (from jaxlib==0.4.23) (1.11.4)\n",
            "Requirement already satisfied: numpy>=1.22 in /usr/local/lib/python3.10/dist-packages (from jaxlib==0.4.23) (1.25.2)\n",
            "Requirement already satisfied: ml-dtypes>=0.2.0 in /usr/local/lib/python3.10/dist-packages (from jaxlib==0.4.23) (0.2.0)\n",
            "Requirement already satisfied: jax==0.4.23 in /usr/local/lib/python3.10/dist-packages (0.4.23)\n",
            "Requirement already satisfied: ml-dtypes>=0.2.0 in /usr/local/lib/python3.10/dist-packages (from jax==0.4.23) (0.2.0)\n",
            "Requirement already satisfied: numpy>=1.22 in /usr/local/lib/python3.10/dist-packages (from jax==0.4.23) (1.25.2)\n",
            "Requirement already satisfied: opt-einsum in /usr/local/lib/python3.10/dist-packages (from jax==0.4.23) (3.3.0)\n",
            "Requirement already satisfied: scipy>=1.9 in /usr/local/lib/python3.10/dist-packages (from jax==0.4.23) (1.11.4)\n"
          ]
        }
      ],
      "source": [
        "#pip install --upgrade jaxlib\n",
        "!pip install jaxlib==0.4.23\n",
        "!pip install jax==0.4.23"
      ]
    },
    {
      "cell_type": "code",
      "execution_count": null,
      "metadata": {
        "colab": {
          "base_uri": "https://localhost:8080/"
        },
        "id": "eQ-gJiMM1C5m",
        "outputId": "be9e7179-afd0-4f97-b430-0f683447115a"
      },
      "outputs": [
        {
          "output_type": "stream",
          "name": "stdout",
          "text": [
            "Requirement already satisfied: e3nn-jax in /usr/local/lib/python3.10/dist-packages (0.20.6)\n",
            "Requirement already satisfied: jax in /usr/local/lib/python3.10/dist-packages (from e3nn-jax) (0.4.23)\n",
            "Requirement already satisfied: jaxlib in /usr/local/lib/python3.10/dist-packages (from e3nn-jax) (0.4.23)\n",
            "Requirement already satisfied: sympy in /usr/local/lib/python3.10/dist-packages (from e3nn-jax) (1.12.1)\n",
            "Requirement already satisfied: numpy in /usr/local/lib/python3.10/dist-packages (from e3nn-jax) (1.25.2)\n",
            "Requirement already satisfied: attrs in /usr/local/lib/python3.10/dist-packages (from e3nn-jax) (23.2.0)\n",
            "Requirement already satisfied: ml-dtypes>=0.2.0 in /usr/local/lib/python3.10/dist-packages (from jax->e3nn-jax) (0.2.0)\n",
            "Requirement already satisfied: opt-einsum in /usr/local/lib/python3.10/dist-packages (from jax->e3nn-jax) (3.3.0)\n",
            "Requirement already satisfied: scipy>=1.9 in /usr/local/lib/python3.10/dist-packages (from jax->e3nn-jax) (1.11.4)\n",
            "Requirement already satisfied: mpmath<1.4.0,>=1.1.0 in /usr/local/lib/python3.10/dist-packages (from sympy->e3nn-jax) (1.3.0)\n"
          ]
        }
      ],
      "source": [
        "pip install --upgrade e3nn-jax"
      ]
    },
    {
      "cell_type": "code",
      "execution_count": null,
      "metadata": {
        "colab": {
          "base_uri": "https://localhost:8080/"
        },
        "id": "tQtosUKg1F2s",
        "outputId": "557bde9f-6e38-4fbb-8220-e99055060fe1"
      },
      "outputs": [
        {
          "output_type": "stream",
          "name": "stdout",
          "text": [
            "Requirement already satisfied: jax-md in /usr/local/lib/python3.10/dist-packages (0.2.8)\n",
            "Requirement already satisfied: absl-py in /usr/local/lib/python3.10/dist-packages (from jax-md) (1.4.0)\n",
            "Requirement already satisfied: numpy in /usr/local/lib/python3.10/dist-packages (from jax-md) (1.25.2)\n",
            "Requirement already satisfied: jax in /usr/local/lib/python3.10/dist-packages (from jax-md) (0.4.23)\n",
            "Requirement already satisfied: jaxlib in /usr/local/lib/python3.10/dist-packages (from jax-md) (0.4.23)\n",
            "Requirement already satisfied: flax in /usr/local/lib/python3.10/dist-packages (from jax-md) (0.8.4)\n",
            "Requirement already satisfied: jraph in /usr/local/lib/python3.10/dist-packages (from jax-md) (0.0.6.dev0)\n",
            "Requirement already satisfied: dataclasses in /usr/local/lib/python3.10/dist-packages (from jax-md) (0.6)\n",
            "Requirement already satisfied: einops in /usr/local/lib/python3.10/dist-packages (from jax-md) (0.8.0)\n",
            "Requirement already satisfied: ml-collections in /usr/local/lib/python3.10/dist-packages (from jax-md) (0.1.1)\n",
            "Requirement already satisfied: e3nn-jax in /usr/local/lib/python3.10/dist-packages (from jax-md) (0.20.6)\n",
            "Requirement already satisfied: dm-haiku in /usr/local/lib/python3.10/dist-packages (from jax-md) (0.0.12)\n",
            "Requirement already satisfied: optax in /usr/local/lib/python3.10/dist-packages (from jax-md) (0.2.2)\n",
            "Requirement already satisfied: jmp>=0.0.2 in /usr/local/lib/python3.10/dist-packages (from dm-haiku->jax-md) (0.0.4)\n",
            "Requirement already satisfied: tabulate>=0.8.9 in /usr/local/lib/python3.10/dist-packages (from dm-haiku->jax-md) (0.9.0)\n",
            "Requirement already satisfied: msgpack in /usr/local/lib/python3.10/dist-packages (from flax->jax-md) (1.0.8)\n",
            "Requirement already satisfied: orbax-checkpoint in /usr/local/lib/python3.10/dist-packages (from flax->jax-md) (0.4.4)\n",
            "Requirement already satisfied: tensorstore in /usr/local/lib/python3.10/dist-packages (from flax->jax-md) (0.1.45)\n",
            "Requirement already satisfied: rich>=11.1 in /usr/local/lib/python3.10/dist-packages (from flax->jax-md) (13.7.1)\n",
            "Requirement already satisfied: typing-extensions>=4.2 in /usr/local/lib/python3.10/dist-packages (from flax->jax-md) (4.12.2)\n",
            "Requirement already satisfied: PyYAML>=5.4.1 in /usr/local/lib/python3.10/dist-packages (from flax->jax-md) (6.0.1)\n",
            "Requirement already satisfied: ml-dtypes>=0.2.0 in /usr/local/lib/python3.10/dist-packages (from jax->jax-md) (0.2.0)\n",
            "Requirement already satisfied: opt-einsum in /usr/local/lib/python3.10/dist-packages (from jax->jax-md) (3.3.0)\n",
            "Requirement already satisfied: scipy>=1.9 in /usr/local/lib/python3.10/dist-packages (from jax->jax-md) (1.11.4)\n",
            "Requirement already satisfied: sympy in /usr/local/lib/python3.10/dist-packages (from e3nn-jax->jax-md) (1.12.1)\n",
            "Requirement already satisfied: attrs in /usr/local/lib/python3.10/dist-packages (from e3nn-jax->jax-md) (23.2.0)\n",
            "Requirement already satisfied: six in /usr/local/lib/python3.10/dist-packages (from ml-collections->jax-md) (1.16.0)\n",
            "Requirement already satisfied: contextlib2 in /usr/local/lib/python3.10/dist-packages (from ml-collections->jax-md) (21.6.0)\n",
            "Requirement already satisfied: chex>=0.1.86 in /usr/local/lib/python3.10/dist-packages (from optax->jax-md) (0.1.86)\n",
            "Requirement already satisfied: toolz>=0.9.0 in /usr/local/lib/python3.10/dist-packages (from chex>=0.1.86->optax->jax-md) (0.12.1)\n",
            "Requirement already satisfied: markdown-it-py>=2.2.0 in /usr/local/lib/python3.10/dist-packages (from rich>=11.1->flax->jax-md) (3.0.0)\n",
            "Requirement already satisfied: pygments<3.0.0,>=2.13.0 in /usr/local/lib/python3.10/dist-packages (from rich>=11.1->flax->jax-md) (2.16.1)\n",
            "Requirement already satisfied: etils[epath,epy] in /usr/local/lib/python3.10/dist-packages (from orbax-checkpoint->flax->jax-md) (1.7.0)\n",
            "Requirement already satisfied: nest_asyncio in /usr/local/lib/python3.10/dist-packages (from orbax-checkpoint->flax->jax-md) (1.6.0)\n",
            "Requirement already satisfied: protobuf in /usr/local/lib/python3.10/dist-packages (from orbax-checkpoint->flax->jax-md) (3.20.3)\n",
            "Requirement already satisfied: mpmath<1.4.0,>=1.1.0 in /usr/local/lib/python3.10/dist-packages (from sympy->e3nn-jax->jax-md) (1.3.0)\n",
            "Requirement already satisfied: mdurl~=0.1 in /usr/local/lib/python3.10/dist-packages (from markdown-it-py>=2.2.0->rich>=11.1->flax->jax-md) (0.1.2)\n",
            "Requirement already satisfied: fsspec in /usr/local/lib/python3.10/dist-packages (from etils[epath,epy]->orbax-checkpoint->flax->jax-md) (2023.6.0)\n",
            "Requirement already satisfied: importlib_resources in /usr/local/lib/python3.10/dist-packages (from etils[epath,epy]->orbax-checkpoint->flax->jax-md) (6.4.0)\n",
            "Requirement already satisfied: zipp in /usr/local/lib/python3.10/dist-packages (from etils[epath,epy]->orbax-checkpoint->flax->jax-md) (3.19.2)\n"
          ]
        }
      ],
      "source": [
        "pip install --upgrade jax-md"
      ]
    },
    {
      "cell_type": "code",
      "execution_count": null,
      "metadata": {
        "colab": {
          "base_uri": "https://localhost:8080/"
        },
        "id": "nAk2Z2r61xu6",
        "outputId": "d03a797c-aa91-4a76-86b2-f07ce971d4a0"
      },
      "outputs": [
        {
          "output_type": "stream",
          "name": "stdout",
          "text": [
            "Requirement already satisfied: sympy in /usr/local/lib/python3.10/dist-packages (1.12.1)\n",
            "Requirement already satisfied: mpmath<1.4.0,>=1.1.0 in /usr/local/lib/python3.10/dist-packages (from sympy) (1.3.0)\n"
          ]
        }
      ],
      "source": [
        "pip install sympy"
      ]
    },
    {
      "cell_type": "code",
      "execution_count": null,
      "metadata": {
        "colab": {
          "base_uri": "https://localhost:8080/"
        },
        "id": "ru-d9_KqIp7t",
        "outputId": "53043bb1-3509-4ea0-ea28-1da95c15b36c"
      },
      "outputs": [
        {
          "output_type": "stream",
          "name": "stdout",
          "text": [
            "Requirement already satisfied: scikit-image in /usr/local/lib/python3.10/dist-packages (0.19.3)\n",
            "Requirement already satisfied: numpy>=1.17.0 in /usr/local/lib/python3.10/dist-packages (from scikit-image) (1.25.2)\n",
            "Requirement already satisfied: scipy>=1.4.1 in /usr/local/lib/python3.10/dist-packages (from scikit-image) (1.11.4)\n",
            "Requirement already satisfied: networkx>=2.2 in /usr/local/lib/python3.10/dist-packages (from scikit-image) (3.3)\n",
            "Requirement already satisfied: pillow!=7.1.0,!=7.1.1,!=8.3.0,>=6.1.0 in /usr/local/lib/python3.10/dist-packages (from scikit-image) (9.4.0)\n",
            "Requirement already satisfied: imageio>=2.4.1 in /usr/local/lib/python3.10/dist-packages (from scikit-image) (2.31.6)\n",
            "Requirement already satisfied: tifffile>=2019.7.26 in /usr/local/lib/python3.10/dist-packages (from scikit-image) (2024.6.18)\n",
            "Requirement already satisfied: PyWavelets>=1.1.1 in /usr/local/lib/python3.10/dist-packages (from scikit-image) (1.6.0)\n",
            "Requirement already satisfied: packaging>=20.0 in /usr/local/lib/python3.10/dist-packages (from scikit-image) (24.1)\n"
          ]
        }
      ],
      "source": [
        "pip install scikit-image"
      ]
    },
    {
      "cell_type": "markdown",
      "metadata": {
        "id": "NLfnjUuD1Dwd"
      },
      "source": [
        "### Imports"
      ]
    },
    {
      "cell_type": "code",
      "execution_count": null,
      "metadata": {
        "colab": {
          "base_uri": "https://localhost:8080/"
        },
        "id": "WqY2y0hm1d__",
        "outputId": "1c7596e5-2a6d-4425-dbba-45b4d7d09267"
      },
      "outputs": [
        {
          "output_type": "stream",
          "name": "stderr",
          "text": [
            "/var/folders/0z/gf4916fj1db5y97y6tvmn0lr0000gn/T/ipykernel_97104/3691122786.py:19: DeprecationWarning: Accessing jax.config via the jax.config submodule is deprecated.\n",
            "  from jax.config import config\n"
          ]
        }
      ],
      "source": [
        "import jax.numpy as np\n",
        "import numpy as onp\n",
        "import time\n",
        "import matplotlib\n",
        "import matplotlib.pyplot as plt\n",
        "import seaborn as sns\n",
        "\n",
        "from jax.nn import relu\n",
        "from jax import jit\n",
        "from jax import vmap, pmap\n",
        "from jax import lax\n",
        "from jax import random\n",
        "from jax import grad, value_and_grad, hessian, jacfwd, jacrev, jvp\n",
        "\n",
        "from jax_md import space\n",
        "from jax_md import quantity\n",
        "from jax_md.quantity import box_size_at_number_density\n",
        "\n",
        "from jax.config import config\n",
        "config.update('jax_enable_x64', True)\n",
        "\n",
        "from sympy import symbols\n",
        "from sympy.plotting import plot\n",
        "from sympy import diff, tanh\n",
        "\n",
        "from scipy.sparse import csgraph\n",
        "\n",
        "from functools import partial"
      ]
    },
    {
      "cell_type": "code",
      "execution_count": null,
      "metadata": {
        "id": "Ved7zgduIlOH"
      },
      "outputs": [],
      "source": [
        "import math\n",
        "import matplotlib.pyplot as plt\n",
        "#import numpy as np\n",
        "import pandas as pd\n",
        "\n",
        "from skimage.draw import ellipse\n",
        "from skimage.measure import label, regionprops, regionprops_table\n",
        "from skimage.transform import rotate"
      ]
    },
    {
      "cell_type": "markdown",
      "metadata": {
        "id": "tyz5YNvOp3pz"
      },
      "source": [
        "### Predefined functions"
      ]
    },
    {
      "cell_type": "code",
      "execution_count": null,
      "metadata": {
        "id": "sjecqRsdp7QK"
      },
      "outputs": [],
      "source": [
        "def square_lattice(N, box_size):\n",
        "  Nx = int(np.sqrt(N))\n",
        "  Ny, ragged = divmod(N, Nx)\n",
        "  if Ny != Nx or ragged:\n",
        "    assert ValueError('Particle count should be a square. Found {}.'.format(N))\n",
        "  length_scale = box_size / (Nx-1)\n",
        "  R = []\n",
        "  for i in range(Nx):\n",
        "    for j in range(Ny):\n",
        "      R.append([i * length_scale, j * length_scale])\n",
        "  return np.array(R)"
      ]
    },
    {
      "cell_type": "code",
      "execution_count": null,
      "metadata": {
        "id": "2qvgZkUWqjzK"
      },
      "outputs": [],
      "source": [
        "def ProgressIter(iter_fun, iter_len=0):\n",
        "  if not iter_len:\n",
        "    iter_len = len(iter_fun)\n",
        "  out = display(progress(0, iter_len), display_id=True)\n",
        "  for i, it in enumerate(iter_fun):\n",
        "    yield it\n",
        "    out.update(progress(i + 1, iter_len))\n",
        "\n",
        "def progress(value, max):\n",
        "    return HTML(\"\"\"\n",
        "        <progress\n",
        "            value='{value}'\n",
        "            max='{max}',\n",
        "            style='width: 45%'\n",
        "        >\n",
        "            {value}\n",
        "        </progress>\n",
        "    \"\"\".format(value=value, max=max))"
      ]
    },
    {
      "cell_type": "code",
      "execution_count": null,
      "metadata": {
        "id": "GrCtTqoxqrir"
      },
      "outputs": [],
      "source": [
        "sns.set_style(style='white')\n",
        "sns.set(font_scale=1.6)\n",
        "\n",
        "def format_plot(x, y):\n",
        "  plt.xlabel(x, fontsize=20)\n",
        "  plt.ylabel(y, fontsize=20)\n",
        "\n",
        "def finalize_plot(shape=(1, 1)):\n",
        "  plt.gcf().set_size_inches(\n",
        "    shape[0] * 1.5 * plt.gcf().get_size_inches()[1],\n",
        "    shape[1] * 1.5 * plt.gcf().get_size_inches()[1])\n",
        "  plt.tight_layout()\n",
        "\n",
        "f32 = np.float32\n",
        "f64 = np.float64\n",
        "\n",
        "def draw_system(R, box_size, marker_size, color=None):\n",
        "  if color == None:\n",
        "    color = [64 / 256] * 3\n",
        "  ms = marker_size / box_size\n",
        "\n",
        "  R = onp.array(R)\n",
        "\n",
        "  marker_style = dict(\n",
        "      linestyle='none',\n",
        "      markeredgewidth=3,\n",
        "      marker='o',\n",
        "      markersize=ms,\n",
        "      color=color,\n",
        "      fillstyle='none')\n",
        "\n",
        "  plt.plot(R[:, 0], R[:, 1], **marker_style)\n",
        "  plt.plot(R[:, 0] + box_size, R[:, 1], **marker_style)\n",
        "  plt.plot(R[:, 0], R[:, 1] + box_size, **marker_style)\n",
        "  plt.plot(R[:, 0] + box_size, R[:, 1] + box_size, **marker_style)\n",
        "  plt.plot(R[:, 0] - box_size, R[:, 1], **marker_style)\n",
        "  plt.plot(R[:, 0], R[:, 1] - box_size, **marker_style)\n",
        "  plt.plot(R[:, 0] - box_size, R[:, 1] - box_size, **marker_style)\n",
        "\n",
        "  plt.xlim([0, box_size])\n",
        "  plt.ylim([0, box_size])\n",
        "  plt.axis('off')"
      ]
    },
    {
      "cell_type": "code",
      "execution_count": null,
      "metadata": {
        "id": "ccz5FsjruHVB"
      },
      "outputs": [],
      "source": [
        "displacement, shift = space.free()\n",
        "metric = space.metric(displacement)\n",
        "displacement = space.map_product(displacement)\n",
        "metric = space.map_product(metric)"
      ]
    },
    {
      "cell_type": "code",
      "execution_count": null,
      "metadata": {
        "id": "_qNy03jeJIib"
      },
      "outputs": [],
      "source": [
        "#import numpy\n",
        "\n",
        "def moore_neighborhood(current, backtrack):  # y, x\n",
        "    \"\"\"Returns clockwise list of pixels from the moore neighborhood of current\\\n",
        "    pixel:\n",
        "    The first element is the coordinates of the backtrack pixel.\n",
        "    The following elements are the coordinates of the neighboring pixels in\n",
        "    clockwise order.\n",
        "\n",
        "    Parameters\n",
        "    ----------\n",
        "    current ([y, x]): Coordinates of the current pixel\n",
        "    backtrack ([y, x]): Coordinates of the backtrack pixel\n",
        "\n",
        "    Returns\n",
        "    -------\n",
        "    List of coordinates of the moore neighborood pixels, or 0 if the backtrack\n",
        "    pixel is not a current pixel neighbor\n",
        "    \"\"\"\n",
        "\n",
        "    operations = onp.array([[-1, 0], [-1, 1], [0, 1], [1, 1], [1, 0], [1, -1],\n",
        "                           [0, -1], [-1, -1]])\n",
        "    neighbors = (current + operations).astype(int)\n",
        "\n",
        "    for i, point in enumerate(neighbors):\n",
        "        if onp.all(point == backtrack):\n",
        "            # we return the sorted neighborhood\n",
        "            return onp.concatenate((neighbors[i:], neighbors[:i]))\n",
        "    return 0\n",
        "\n",
        "\n",
        "def boundary_tracing(region):\n",
        "    \"\"\"Coordinates of the region's boundary. The region must not have isolated\n",
        "    points.\n",
        "\n",
        "    Parameters\n",
        "    ----------\n",
        "    region : obj\n",
        "        Obtained with skimage.measure.regionprops()\n",
        "\n",
        "    Returns\n",
        "    -------\n",
        "    boundary : 2D array\n",
        "        List of coordinates of pixels in the boundary\n",
        "        The first element is the most upper left pixel of the region.\n",
        "        The following coordinates are in clockwise order.\n",
        "    \"\"\"\n",
        "\n",
        "    # creating the binary image\n",
        "    coords = region.coords\n",
        "    maxs = onp.amax(coords, axis=0)\n",
        "    binary = onp.zeros((maxs[0] + 2, maxs[1] + 2))\n",
        "    x = coords[:, 1]\n",
        "    y = coords[:, 0]\n",
        "    binary[tuple([y, x])] = 1\n",
        "\n",
        "    # initilization\n",
        "    # starting point is the most upper left point\n",
        "    idx_start = 0\n",
        "    while True:  # asserting that the starting point is not isolated\n",
        "        start = [y[idx_start], x[idx_start]]\n",
        "        focus_start = binary[start[0]-1:start[0]+2, start[1]-1:start[1]+2]\n",
        "        if onp.sum(focus_start) > 1:\n",
        "            break\n",
        "        idx_start += 1\n",
        "\n",
        "    # Determining backtrack pixel for the first element\n",
        "    if (binary[start[0] + 1, start[1]] == 0 and\n",
        "            binary[start[0]+1, start[1]-1] == 0):\n",
        "        backtrack_start = [start[0]+1, start[1]]\n",
        "    else:\n",
        "        backtrack_start = [start[0], start[1] - 1]\n",
        "\n",
        "    current = start\n",
        "    backtrack = backtrack_start\n",
        "    boundary = []\n",
        "    counter = 0\n",
        "\n",
        "    while True:\n",
        "        neighbors_current = moore_neighborhood(current, backtrack)\n",
        "        y = neighbors_current[:, 0]\n",
        "        x = neighbors_current[:, 1]\n",
        "        idx = onp.argmax(binary[tuple([y, x])])\n",
        "        boundary.append(current)\n",
        "        backtrack = neighbors_current[idx-1]\n",
        "        current = neighbors_current[idx]\n",
        "        counter += 1\n",
        "\n",
        "        if (onp.all(current == start) and onp.all(backtrack == backtrack_start)):\n",
        "            break\n",
        "\n",
        "    return onp.array(boundary)"
      ]
    },
    {
      "cell_type": "markdown",
      "source": [
        "#Controlling phase separation: Model A (Allen-Cahn)"
      ],
      "metadata": {
        "id": "Q1bz56qqvV1M"
      }
    },
    {
      "cell_type": "code",
      "source": [],
      "metadata": {
        "id": "26l302eFvpF2"
      },
      "execution_count": null,
      "outputs": []
    },
    {
      "cell_type": "markdown",
      "source": [
        "#Controlling phase separation: Model B (Cahn-Hilliard)"
      ],
      "metadata": {
        "id": "8HOGTlScvqRp"
      }
    },
    {
      "cell_type": "code",
      "source": [],
      "metadata": {
        "id": "graIQLUJvuhE"
      },
      "execution_count": null,
      "outputs": []
    },
    {
      "cell_type": "markdown",
      "source": [
        "#Controlling morphogenesis (Reaction-Diffusion)"
      ],
      "metadata": {
        "id": "tWqKsf25vu1Z"
      }
    },
    {
      "cell_type": "code",
      "source": [],
      "metadata": {
        "id": "2YOwOyaYv3Mb"
      },
      "execution_count": null,
      "outputs": []
    },
    {
      "cell_type": "markdown",
      "source": [
        "#Controlling morphogenesis (Cell fate dynamics)"
      ],
      "metadata": {
        "id": "6r6y0JjYv3d-"
      }
    },
    {
      "cell_type": "code",
      "source": [],
      "metadata": {
        "id": "kqRtruAev-yJ"
      },
      "execution_count": null,
      "outputs": []
    },
    {
      "cell_type": "markdown",
      "source": [
        "#Controlling droplet assembly (Thin liquid film dynamics)"
      ],
      "metadata": {
        "id": "yQ-MyaPzv_R3"
      }
    },
    {
      "cell_type": "code",
      "source": [],
      "metadata": {
        "id": "N6kIqN5qwJhU"
      },
      "execution_count": null,
      "outputs": []
    }
  ]
}